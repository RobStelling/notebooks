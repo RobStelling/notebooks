{
 "cells": [
  {
   "cell_type": "markdown",
   "metadata": {},
   "source": [
    "# Sandbox\n",
    "Just a space to play with pythonic code and new functionality"
   ]
  },
  {
   "cell_type": "markdown",
   "metadata": {},
   "source": [
    "## Strings"
   ]
  },
  {
   "cell_type": "markdown",
   "metadata": {},
   "source": [
    "### f-strings\n",
    "[Reference](https://docs.python.org/3/reference/lexical_analysis.html#f-strings) [PEP 0498](https://www.python.org/dev/peps/pep-0498/)"
   ]
  },
  {
   "cell_type": "code",
   "execution_count": 1,
   "metadata": {},
   "outputs": [
    {
     "name": "stdout",
     "output_type": "stream",
     "text": [
      "Roberto was born in 1961\n"
     ]
    }
   ],
   "source": [
    "I = \"Roberto\"\n",
    "year = 1961\n",
    "message = f'{I} was born in {year}'\n",
    "print(message)"
   ]
  },
  {
   "cell_type": "markdown",
   "metadata": {},
   "source": [
    "### String multiplication"
   ]
  },
  {
   "cell_type": "code",
   "execution_count": 2,
   "metadata": {},
   "outputs": [
    {
     "name": "stdout",
     "output_type": "stream",
     "text": [
      "Roberto-Roberto-Roberto-Roberto-Roberto-Roberto-Roberto-Roberto is too much Roberto\n"
     ]
    }
   ],
   "source": [
    "print(f'{((I+\"-\") * 8)[:-1]} is too much {I}')"
   ]
  },
  {
   "cell_type": "markdown",
   "metadata": {},
   "source": [
    "## Pathlib\n",
    "[Why you should be using pathlib](https://treyhunner.com/2018/12/why-you-should-be-using-pathlib/)"
   ]
  },
  {
   "cell_type": "code",
   "execution_count": 3,
   "metadata": {},
   "outputs": [
    {
     "name": "stdout",
     "output_type": "stream",
     "text": [
      "data\n"
     ]
    }
   ],
   "source": [
    "from pathlib import Path\n",
    "root = Path('data')\n",
    "print(root)"
   ]
  },
  {
   "cell_type": "code",
   "execution_count": 4,
   "metadata": {},
   "outputs": [],
   "source": [
    "path = root / 'images'"
   ]
  },
  {
   "cell_type": "code",
   "execution_count": 5,
   "metadata": {},
   "outputs": [
    {
     "name": "stdout",
     "output_type": "stream",
     "text": [
      "data/images\n"
     ]
    }
   ],
   "source": [
    "print(path)"
   ]
  },
  {
   "cell_type": "code",
   "execution_count": 6,
   "metadata": {},
   "outputs": [
    {
     "name": "stdout",
     "output_type": "stream",
     "text": [
      "/Users/stelling/htdocs/notebooks/data/images\n"
     ]
    }
   ],
   "source": [
    "print(path.resolve())"
   ]
  },
  {
   "cell_type": "markdown",
   "metadata": {},
   "source": [
    "## Type hinting\n",
    "[Reference](https://docs.python.org/3/library/typing.html)"
   ]
  },
  {
   "cell_type": "code",
   "execution_count": 7,
   "metadata": {},
   "outputs": [
    {
     "data": {
      "text/plain": [
       "True"
      ]
     },
     "execution_count": 7,
     "metadata": {},
     "output_type": "execute_result"
    }
   ],
   "source": [
    "def find(string:str, sentence:str) -> bool:\n",
    "    return string in sentence\n",
    "\n",
    "statement = \"I really like Isacc Asimov's books\"\n",
    "\n",
    "find(\"Asimov\", statement)"
   ]
  },
  {
   "cell_type": "code",
   "execution_count": 8,
   "metadata": {
    "scrolled": false
   },
   "outputs": [
    {
     "data": {
      "text/plain": [
       "False"
      ]
     },
     "execution_count": 8,
     "metadata": {},
     "output_type": "execute_result"
    }
   ],
   "source": [
    "find(\"Clarke\", statement)"
   ]
  },
  {
   "cell_type": "markdown",
   "metadata": {},
   "source": [
    "## Type annotations with typing"
   ]
  },
  {
   "cell_type": "code",
   "execution_count": 9,
   "metadata": {},
   "outputs": [],
   "source": [
    "from typing import List, Optional, Dict, Iterable, Tuple\n",
    "\n",
    "def total(xs:List[float]) -> float:\n",
    "    return sum(xs)\n",
    "\n",
    "values:List[int] = []\n",
    "best_so_far:Optional[float] = None\n",
    "    \n",
    "counts:Dict[str, int] = {'data': 1, 'science': 2}\n",
    "\n",
    "lazy = True\n",
    "if lazy:\n",
    "    evens:Iterable[int] = (x for x in range(10) if x % 2 == 0)\n",
    "else:\n",
    "    evens = [0, 2, 4, 6, 8]\n",
    "\n",
    "triple:Tuple[int, float, int] = (10, 2.3, 5)"
   ]
  },
  {
   "cell_type": "markdown",
   "metadata": {},
   "source": [
    "# Enumerations\n",
    "An enumeration is a set of symbolic names (members) bound to unique, constant values. Within an enumeration, the members can be compared by identity, and the enumeration itself can be iterated over.\n",
    "\n",
    "\n",
    "[Reference](https://docs.python.org/3/library/enum)"
   ]
  },
  {
   "cell_type": "code",
   "execution_count": 10,
   "metadata": {},
   "outputs": [],
   "source": [
    "from enum import Enum, auto\n",
    "\n",
    "class Monster(Enum):\n",
    "    # By default auto() starts with 1\n",
    "    # ZOMBIE = 0 forces a start with 0\n",
    "    ZOMBIE = 0\n",
    "    WARRIOR = auto()\n",
    "    BEAR = auto()"
   ]
  },
  {
   "cell_type": "code",
   "execution_count": 11,
   "metadata": {
    "scrolled": true
   },
   "outputs": [
    {
     "name": "stdout",
     "output_type": "stream",
     "text": [
      "Monster.ZOMBIE\n",
      "Monster.WARRIOR\n",
      "Monster.BEAR\n"
     ]
    }
   ],
   "source": [
    "for monster in Monster:\n",
    "    print(monster)"
   ]
  },
  {
   "cell_type": "code",
   "execution_count": 12,
   "metadata": {},
   "outputs": [
    {
     "name": "stdout",
     "output_type": "stream",
     "text": [
      "{'_value_': 0, '_name_': 'ZOMBIE', '__objclass__': <enum 'Monster'>}\n"
     ]
    }
   ],
   "source": [
    "print(Monster.ZOMBIE.__dict__)"
   ]
  },
  {
   "cell_type": "code",
   "execution_count": 13,
   "metadata": {},
   "outputs": [
    {
     "name": "stdout",
     "output_type": "stream",
     "text": [
      "1\n"
     ]
    }
   ],
   "source": [
    "print(Monster.WARRIOR._value_)"
   ]
  },
  {
   "cell_type": "markdown",
   "metadata": {},
   "source": [
    "# LRU cache decorator\n",
    "[Reference](https://docs.python.org/3/library/functools.html#functools.lru_cache)"
   ]
  },
  {
   "cell_type": "code",
   "execution_count": 14,
   "metadata": {
    "scrolled": true
   },
   "outputs": [
    {
     "name": "stdout",
     "output_type": "stream",
     "text": [
      "102334155\n",
      "Duration: 42.28735589981079s\n"
     ]
    }
   ],
   "source": [
    "import time\n",
    "def fib(number: int) -> int:\n",
    "    if number == 0: return 0\n",
    "    if number == 1: return 1\n",
    "    \n",
    "    return fib(number-1) + fib(number-2)\n",
    "start = time.time()\n",
    "print(fib(40))\n",
    "print(f'Duration: {time.time() - start}s')"
   ]
  },
  {
   "cell_type": "markdown",
   "metadata": {},
   "source": [
    "### With memoization\n",
    "[Memoization - Wikipedia](https://en.wikipedia.org/wiki/Memoization)"
   ]
  },
  {
   "cell_type": "code",
   "execution_count": 15,
   "metadata": {},
   "outputs": [
    {
     "name": "stdout",
     "output_type": "stream",
     "text": [
      "102334155\n",
      "Duration: 0.00020194053649902344s\n"
     ]
    }
   ],
   "source": [
    "from functools import lru_cache\n",
    "@lru_cache(maxsize=512)\n",
    "def fib_memoization(number: int) -> int:\n",
    "    if number == 0: return 0\n",
    "    if number == 1: return 1\n",
    "    \n",
    "    return fib_memoization(number-1) + fib_memoization(number-2)\n",
    "start = time.time()\n",
    "print(fib_memoization(40))\n",
    "print(f'Duration: {time.time() - start}s')"
   ]
  },
  {
   "cell_type": "markdown",
   "metadata": {},
   "source": [
    "# Extended iterable unpacking\n",
    "[PEP 3132](https://www.python.org/dev/peps/pep-3132/)"
   ]
  },
  {
   "cell_type": "code",
   "execution_count": 16,
   "metadata": {},
   "outputs": [
    {
     "name": "stdout",
     "output_type": "stream",
     "text": [
      "0 [1, 2, 3] 4\n",
      "python3.7\n",
      "script.py\n",
      "['-n', '5', '-l', '15']\n",
      "0 2\n"
     ]
    }
   ],
   "source": [
    "head, *body, tail = range(5)\n",
    "print(head, body, tail)\n",
    "# 0 [1, 2, 3] 4\n",
    "py, filename, *cmds = \"python3.7 script.py -n 5 -l 15\".split()\n",
    "print(py)\n",
    "print(filename)\n",
    "print(cmds)\n",
    "# python3.7\n",
    "# script.py\n",
    "# ['-n', '5', '-l', '15']\n",
    "first, _, third, *_ = range(10)\n",
    "print(first, third)"
   ]
  },
  {
   "cell_type": "markdown",
   "metadata": {},
   "source": [
    "## Zip and 'Unzip'"
   ]
  },
  {
   "cell_type": "code",
   "execution_count": 17,
   "metadata": {
    "scrolled": true
   },
   "outputs": [
    {
     "name": "stdout",
     "output_type": "stream",
     "text": [
      "Game of Thrones cast list\n",
      "\n",
      "Peter Dincklage performed the role of Tyrion Lanninster\n",
      "Lena Headey performed the role of Cersei Lannister\n",
      "Emilia Clarke performed the role of Daenerys Targaryen\n",
      "Kit Harrington performed the role of Jon Snow\n",
      "Sophie Turner performed the role of Sansa Stark\n",
      "Maisie Williams performed the role of Arya Stark\n",
      "Nicolaj Coster-Waldau performed the role of Jaime Lannister\n",
      "Iain Glen performed the role of Jorah Mormont\n",
      "John Bradley performed the role of Samwell Tarly\n",
      "\n",
      "First tuple: ('Peter Dincklage', 'Tyrion Lanninster')\n",
      "\n"
     ]
    }
   ],
   "source": [
    "actors = [\"Peter Dincklage\", \"Lena Headey\", \"Emilia Clarke\",\n",
    "          \"Kit Harrington\", \"Sophie Turner\", \"Maisie Williams\",\n",
    "          \"Nicolaj Coster-Waldau\", \"Iain Glen\", \"John Bradley\"]\n",
    "roles = [\"Tyrion Lanninster\", \"Cersei Lannister\", \"Daenerys Targaryen\",\n",
    "         \"Jon Snow\", \"Sansa Stark\", \"Arya Stark\",\n",
    "         \"Jaime Lannister\", \"Jorah Mormont\", \"Samwell Tarly\",\n",
    "         \"Theon Greyjoy\"]\n",
    "\n",
    "\n",
    "print('Game of Thrones cast list\\n')\n",
    "for actor, role in zip(actors, roles):\n",
    "    print(f'{actor} performed the role of {role}' )\n",
    "\n",
    "cast = list(zip(actors, roles))\n",
    "\n",
    "print(f'\\nFirst tuple: {cast[0]}\\n')\n",
    "\n",
    "actors, roles = zip(*cast)"
   ]
  },
  {
   "cell_type": "markdown",
   "metadata": {},
   "source": [
    "## Args and kwargs"
   ]
  },
  {
   "cell_type": "code",
   "execution_count": 18,
   "metadata": {},
   "outputs": [
    {
     "name": "stdout",
     "output_type": "stream",
     "text": [
      "a = 1\n",
      "Unnamed args = (2, 3, 4)\n",
      "Keyword args = {'five': 5, 'six': 6}\n"
     ]
    }
   ],
   "source": [
    "def not_a_real_function(a, *args, **kwargs):\n",
    "    \"\"\" Notice that there is nothing special in the names args and kwargs\n",
    "    \"\"\"\n",
    "    print(f'a = {a}')\n",
    "    print(f'Unnamed args = {args}')\n",
    "    print(f'Keyword args = {kwargs}')\n",
    "    \n",
    "not_a_real_function(1, 2, 3, 4, five=5, six=6)"
   ]
  },
  {
   "cell_type": "markdown",
   "metadata": {},
   "source": [
    "# Data classes\n",
    "[Reference](https://docs.python.org/3/library/dataclasses.html)\n",
    "[PEP 0557](https://www.python.org/dev/peps/pep-0557/)"
   ]
  },
  {
   "cell_type": "markdown",
   "metadata": {},
   "source": [
    "### Without data classes"
   ]
  },
  {
   "cell_type": "code",
   "execution_count": 19,
   "metadata": {},
   "outputs": [
    {
     "name": "stdout",
     "output_type": "stream",
     "text": [
      "10.4\n",
      "<__main__.Armor object at 0x109609fd0>\n"
     ]
    }
   ],
   "source": [
    "class Armor:  \n",
    "    def __init__(self, armor: float, description: str, level: int = 1):\n",
    "        self.armor = armor\n",
    "        self.level = level\n",
    "        self.description = description\n",
    "                 \n",
    "    def power(self) -> float:\n",
    "        return self.armor * self.level\n",
    "    \n",
    "armor = Armor(5.2, \"Common armor.\", 2)\n",
    "print(armor.power())\n",
    "# 10.4\n",
    "print(armor)\n",
    "# <__main__.Armor object at 0x7fc4800e2cf8>"
   ]
  },
  {
   "cell_type": "markdown",
   "metadata": {},
   "source": [
    "### With data classes"
   ]
  },
  {
   "cell_type": "code",
   "execution_count": 20,
   "metadata": {},
   "outputs": [
    {
     "name": "stdout",
     "output_type": "stream",
     "text": [
      "10.4\n",
      "Armor(armor=5.2, description='Common armor.', level=2)\n"
     ]
    }
   ],
   "source": [
    "from dataclasses import dataclass\n",
    "@dataclass\n",
    "class Armor:\n",
    "    armor: float\n",
    "    description: str\n",
    "    level: int = 1\n",
    "    \n",
    "    def power(self) -> float:\n",
    "        return self.armor * self.level\n",
    "    \n",
    "armor = Armor(5.2, \"Common armor.\", 2)\n",
    "print(armor.power())\n",
    "# 10.4\n",
    "print(armor)\n",
    "# Armor(armor=5.2, description='Common armor.', level=2)"
   ]
  },
  {
   "cell_type": "markdown",
   "metadata": {},
   "source": [
    "# Breakpoint\n",
    "[PEP 553](PEP 553 -- Built-in breakpoint() | Python.org)"
   ]
  },
  {
   "cell_type": "code",
   "execution_count": 21,
   "metadata": {},
   "outputs": [
    {
     "name": "stdout",
     "output_type": "stream",
     "text": [
      "--Call--\n",
      "> /Users/stelling/anaconda3/lib/python3.7/site-packages/IPython/core/displayhook.py(247)__call__()\n",
      "-> def __call__(self, result=None):\n",
      "(Pdb) continue\n"
     ]
    }
   ],
   "source": [
    "name = \"Roberto\"\n",
    "breakpoint()"
   ]
  },
  {
   "cell_type": "markdown",
   "metadata": {},
   "source": [
    "# Implicit namespace packages\n",
    "[Packages](https://docs.python.org/3/tutorial/modules.html#packages)"
   ]
  },
  {
   "cell_type": "markdown",
   "metadata": {},
   "source": [
    "# Attributes\n",
    "[setattr](https://docs.python.org/3/library/functions.html#setattr) [getattr](https://docs.python.org/3/library/functions.html#getattr)\n",
    "\n",
    "With `setattr` and `getattr` it is possible to create attributes for a given class and access these attributes using \"_dot notation_\"."
   ]
  },
  {
   "cell_type": "code",
   "execution_count": 22,
   "metadata": {
    "scrolled": true
   },
   "outputs": [
    {
     "name": "stdout",
     "output_type": "stream",
     "text": [
      "firstName: Roberto\n",
      "surname: Stelling\n",
      "dateOfBirth: 61/12/26\n",
      "country: Brazil\n",
      "processed: True\n",
      "Roberto\n"
     ]
    }
   ],
   "source": [
    "class myData:\n",
    "    pass\n",
    "\n",
    "data = myData()\n",
    "my_info = {'firstName': 'Roberto', 'surname': 'Stelling', 'dateOfBirth': '61/12/26', 'country': 'Brazil'}\n",
    "\n",
    "for key, value in my_info.items():\n",
    "    setattr(data, key, value)\n",
    "    \n",
    "setattr(data, 'processed', True)\n",
    "\n",
    "for key in data.__dict__:\n",
    "    print(f'{key}: {getattr(data, key)}')\n",
    "\n",
    "print(data.firstName)"
   ]
  },
  {
   "cell_type": "markdown",
   "metadata": {},
   "source": [
    "## Parallelism with ipyparallel"
   ]
  },
  {
   "cell_type": "code",
   "execution_count": 23,
   "metadata": {},
   "outputs": [],
   "source": [
    "import ipyparallel as ipp\n",
    "from pathlib import Path\n",
    "import numpy as np"
   ]
  },
  {
   "cell_type": "code",
   "execution_count": 24,
   "metadata": {},
   "outputs": [
    {
     "name": "stdout",
     "output_type": "stream",
     "text": [
      "There are 4 clients: [0, 1, 2, 3]\n"
     ]
    },
    {
     "name": "stderr",
     "output_type": "stream",
     "text": [
      "/Users/stelling/anaconda3/lib/python3.7/site-packages/ipyparallel/util.py:246: RuntimeWarning: IPython could not determine public IPs\n",
      "  warnings.warn(\"IPython could not determine public IPs\", RuntimeWarning)\n"
     ]
    }
   ],
   "source": [
    "rc = ipp.Client()\n",
    "print(f'There are {len(rc)} clients: {rc.ids}')"
   ]
  },
  {
   "cell_type": "code",
   "execution_count": 25,
   "metadata": {},
   "outputs": [
    {
     "data": {
      "text/plain": [
       "array([1. , 1.5, 2. , 2.5, 3. , 3.5, 4. , 4.5])"
      ]
     },
     "execution_count": 25,
     "metadata": {},
     "output_type": "execute_result"
    }
   ],
   "source": [
    "np.arange(1, 5, 0.5)"
   ]
  },
  {
   "cell_type": "code",
   "execution_count": 26,
   "metadata": {},
   "outputs": [
    {
     "name": "stdout",
     "output_type": "stream",
     "text": [
      "[1.0, 9.313225746154785, 57.6650390625, 269.38938999176025, 1024.0, 3325.256730079651, 9536.7431640625, 24735.855675697327, 59049.0, 131472.10297489166, 275854.7353515625, 549936.6670846939, 1048576.0, 1922601.6048898697, 3405062.8916015625, 5847040.422249794]\n"
     ]
    }
   ],
   "source": [
    "# Quick'n'simple map with a Direct View\n",
    "dv = rc[:]\n",
    "results = dv.map_sync(lambda x:x**10, np.arange(1, 5, 0.25))\n",
    "print(results)"
   ]
  },
  {
   "cell_type": "markdown",
   "metadata": {},
   "source": [
    "### Pi digits\n",
    "Adapted from ipyparallel example"
   ]
  },
  {
   "cell_type": "code",
   "execution_count": 27,
   "metadata": {},
   "outputs": [],
   "source": [
    "import sympy\n",
    "from pathlib import Path\n",
    "import collections"
   ]
  },
  {
   "cell_type": "code",
   "execution_count": 28,
   "metadata": {},
   "outputs": [],
   "source": [
    "pi = sympy.pi.evalf(10000)"
   ]
  },
  {
   "cell_type": "code",
   "execution_count": 29,
   "metadata": {},
   "outputs": [
    {
     "data": {
      "text/plain": [
       "array([ 968, 1026, 1021,  974, 1012, 1046, 1021,  969,  948, 1014])"
      ]
     },
     "execution_count": 29,
     "metadata": {},
     "output_type": "execute_result"
    }
   ],
   "source": [
    "digits = sorted([d for d in str(pi)[2:]])\n",
    "freqs = np.array(list(collections.Counter(digits).values()))\n",
    "freqs"
   ]
  },
  {
   "cell_type": "code",
   "execution_count": 30,
   "metadata": {},
   "outputs": [],
   "source": [
    "pathpi = Path(\".\")\n",
    "pathpi = pathpi / \"ipyparallel\" / \"pidigits.py\"\n",
    "with open(pathpi) as pidigits:\n",
    "    code = compile(pidigits.read(), \"pidigits.py\", 'exec')\n",
    "    exec(code)"
   ]
  },
  {
   "cell_type": "code",
   "execution_count": 31,
   "metadata": {},
   "outputs": [
    {
     "data": {
      "text/plain": [
       "array([ 968, 1026, 1021,  974, 1012, 1046, 1021,  969,  948, 1014],\n",
       "      dtype=int32)"
      ]
     },
     "execution_count": 31,
     "metadata": {},
     "output_type": "execute_result"
    }
   ],
   "source": [
    "freqs = one_digit_freqs(digits)\n",
    "freqs"
   ]
  },
  {
   "cell_type": "code",
   "execution_count": 32,
   "metadata": {},
   "outputs": [
    {
     "data": {
      "text/plain": [
       "[<matplotlib.lines.Line2D at 0x11826f6d8>]"
      ]
     },
     "execution_count": 32,
     "metadata": {},
     "output_type": "execute_result"
    },
    {
     "data": {
      "image/png": "[encoded data removed]",
      "text/plain": [
       "<Figure size 432x288 with 1 Axes>"
      ]
     },
     "metadata": {
      "needs_background": "light"
     },
     "output_type": "display_data"
    }
   ],
   "source": [
    "plot_one_digit_freqs(freqs)"
   ]
  },
  {
   "cell_type": "code",
   "execution_count": null,
   "metadata": {},
   "outputs": [],
   "source": []
  }
 ],
 "metadata": {
  "kernelspec": {
   "display_name": "Python 3",
   "language": "python",
   "name": "python3"
  },
  "language_info": {
   "codemirror_mode": {
    "name": "ipython",
    "version": 3
   },
   "file_extension": ".py",
   "mimetype": "text/x-python",
   "name": "python",
   "nbconvert_exporter": "python",
   "pygments_lexer": "ipython3",
   "version": "3.7.3"
  },
  "toc": {
   "base_numbering": 1,
   "nav_menu": {},
   "number_sections": true,
   "sideBar": true,
   "skip_h1_title": false,
   "title_cell": "Table of Contents",
   "title_sidebar": "Contents",
   "toc_cell": false,
   "toc_position": {},
   "toc_section_display": true,
   "toc_window_display": true
  }
 },
 "nbformat": 4,
 "nbformat_minor": 2
}
