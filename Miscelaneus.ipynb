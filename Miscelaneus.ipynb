{
 "cells": [
  {
   "cell_type": "markdown",
   "metadata": {},
   "source": [
    "# Miscelaneus routines implementations\n",
    "A collection of simple routines to be used in Jupyter Notebooks"
   ]
  },
  {
   "cell_type": "markdown",
   "metadata": {},
   "source": [
    "# Select_file: simple file selector"
   ]
  },
  {
   "cell_type": "code",
   "execution_count": 1,
   "metadata": {},
   "outputs": [],
   "source": [
    "import os\n",
    "def select_file(start=\".\"):\n",
    "    \"\"\"\n",
    "    Crude implementation of a file selector.\n",
    "    Navigates through the folders until a file is selected.\n",
    "    Returns the full name of the selected file\n",
    "    Parameters:\n",
    "    start: If not given, assumes \".\"\n",
    "    \"\"\"\n",
    "    current_dir = os.path.abspath(start)\n",
    "    if not os.path.isdir(current_dir):\n",
    "        raise ValueError\n",
    "    current_folder_content = [\"..\"] + os.listdir(current_dir)\n",
    "    navigate = True\n",
    "    while navigate:\n",
    "        print(\"Current folder: {}\".format(current_dir))\n",
    "        print(\"Content: {}\".format(current_folder_content))\n",
    "        text = input(\"Which file ? \")\n",
    "        if text in current_folder_content:\n",
    "            to_open = os.path.join(current_dir, text)\n",
    "            if os.path.isdir(to_open):\n",
    "                if text == \"..\":\n",
    "                    current_dir = os.path.join(\"/\", *current_dir.split(\"/\")[1:-1])\n",
    "                else: \n",
    "                    current_dir = os.path.join(current_dir, text)\n",
    "                current_folder_content = [\"..\"] + os.listdir(current_dir)\n",
    "            else:\n",
    "                to_open = os.path.join(current_dir, text)\n",
    "                navigate = False\n",
    "        else:\n",
    "            print(\"File {} not found\".format(text))\n",
    "    return to_open"
   ]
  },
  {
   "cell_type": "markdown",
   "metadata": {},
   "source": [
    "## Usage example"
   ]
  },
  {
   "cell_type": "code",
   "execution_count": 2,
   "metadata": {},
   "outputs": [
    {
     "name": "stdout",
     "output_type": "stream",
     "text": [
      "Current folder: /Users/stelling/htdocs/notebooks\n",
      "Content: ['..', '.ipynb_checkpoints', 'Sandbox.ipynb']\n",
      "Which file ? ..\n",
      "Current folder: /Users/stelling/htdocs\n",
      "Content: ['..', 'impeachment', 'camaraCrawler', 'mnist', 'pca', 'demo', 'LODChart', 'tcav', 'botsCourse', 'estupro', 'DeepLearnR', 'cprj2', 'estupro.stable', 'cprj5', 'tfplayground', 'DLCourse', 'stelling.cc', 'cprj4', 'bokeh', 'cprj3', 'favicon.ico', 'alpha-beta', '.DS_Store', 'estuprosRJ', 'tsnePrj', 'faviconX.ico', 'riobot', 'twitterFactCheckingBot', 'nocs', 'tsne', 'defer', 'smartfit', 'CursoD3', 'pythonML', 'Thrones Facts', 'ud_demo', 'cprj', 'casa', 'example', 'xgboost', 'deeplearnjs', 'webalizer', 'complementary-color-prediction', 'd3_2go', 'fome', 'node_modules', 'GistEstuproRJ', 'wc', 'idhm', 'senado', 'Font Awesome', 'violencia_orig', 'sas-python-work', 'votos', 'tsTest', 'LaTeXIndent', 'img', 'dashboard', 'cccprj3', 'idh', 'tensorLearn', 'aat', 'favicon.png', 'yarn.lock', 'machineplay', 'segurança', 'onibus', 'package.json', 'anistia', 'KDD', 'svgExample', 'seguranca', 'examples', 'dataFramed', 'tensorflow', 'rdp5', 'KDD2009.original', 'teachable-machine', 'mapas', 'geddel', 'violencia', 'semiotic-examples', '.ipynb_checkpoints', 'd3js', 'censo', 'kerasREST', 'vmax', 'senadosocial', 'sen', 'cprjTmp', 'novosite', 'lazyprogrammer', 'arvore', 'cb', 'PDW', 'imagens', 'gpujs', 'notebooks', 'imgPca', 'webimg', 'Practical Data Science with R', 'KDD2009', 'udacity', 'KDD2009-sent.zip', 'vizuwow.com.br', 'canada', 'miscImg']\n",
      "Which file ? notebooks\n",
      "Current folder: /Users/stelling/htdocs/notebooks\n",
      "Content: ['..', '.ipynb_checkpoints', 'Sandbox.ipynb']\n",
      "Which file ? Sandbox\n",
      "File Sandbox not found\n",
      "Current folder: /Users/stelling/htdocs/notebooks\n",
      "Content: ['..', '.ipynb_checkpoints', 'Sandbox.ipynb']\n",
      "Which file ? Sandbox.ipynb\n",
      "\n",
      "That's the file I'm looking for: /Users/stelling/htdocs/notebooks/Sandbox.ipynb\n"
     ]
    }
   ],
   "source": [
    "my_file = select_file()\n",
    "print(\"\\nThat's the file I'm looking for: {}\".format(my_file))"
   ]
  },
  {
   "cell_type": "code",
   "execution_count": 3,
   "metadata": {
    "scrolled": false
   },
   "outputs": [
    {
     "data": {
      "text/plain": [
       "'/Users/stelling/htdocs/notebooks/Sandbox.ipynb'"
      ]
     },
     "execution_count": 3,
     "metadata": {},
     "output_type": "execute_result"
    }
   ],
   "source": [
    "my_file"
   ]
  },
  {
   "cell_type": "markdown",
   "metadata": {},
   "source": [
    "# "
   ]
  }
 ],
 "metadata": {
  "kernelspec": {
   "display_name": "Python 3",
   "language": "python",
   "name": "python3"
  },
  "language_info": {
   "codemirror_mode": {
    "name": "ipython",
    "version": 3
   },
   "file_extension": ".py",
   "mimetype": "text/x-python",
   "name": "python",
   "nbconvert_exporter": "python",
   "pygments_lexer": "ipython3",
   "version": "3.7.2"
  },
  "toc": {
   "base_numbering": 1,
   "nav_menu": {},
   "number_sections": true,
   "sideBar": true,
   "skip_h1_title": false,
   "title_cell": "Table of Contents",
   "title_sidebar": "Contents",
   "toc_cell": false,
   "toc_position": {},
   "toc_section_display": true,
   "toc_window_display": false
  }
 },
 "nbformat": 4,
 "nbformat_minor": 2
}
